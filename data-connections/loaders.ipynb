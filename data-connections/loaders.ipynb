{
 "cells": [
  {
   "cell_type": "code",
   "execution_count": 1,
   "metadata": {},
   "outputs": [],
   "source": [
    "import os\n",
    "from dotenv import load_dotenv\n",
    "load_dotenv()\n",
    "os.environ[\"OPENAI_API_KEY\"] = os.getenv(\"OPENAI_API_KEY\")"
   ]
  },
  {
   "cell_type": "code",
   "execution_count": 2,
   "metadata": {},
   "outputs": [],
   "source": [
    "from langchain.document_loaders import CSVLoader"
   ]
  },
  {
   "cell_type": "code",
   "execution_count": 3,
   "metadata": {},
   "outputs": [
    {
     "ename": "RuntimeError",
     "evalue": "Error loading some_data/penguins.csv",
     "output_type": "error",
     "traceback": [
      "\u001b[0;31m---------------------------------------------------------------------------\u001b[0m",
      "\u001b[0;31mFileNotFoundError\u001b[0m                         Traceback (most recent call last)",
      "File \u001b[0;32m~/.local/share/virtualenvs/langchain-udemy-notebooks-Raz3oF7P/lib/python3.11/site-packages/langchain/document_loaders/csv_loader.py:68\u001b[0m, in \u001b[0;36mCSVLoader.load\u001b[0;34m(self)\u001b[0m\n\u001b[1;32m     67\u001b[0m \u001b[39mtry\u001b[39;00m:\n\u001b[0;32m---> 68\u001b[0m     \u001b[39mwith\u001b[39;00m \u001b[39mopen\u001b[39;49m(\u001b[39mself\u001b[39;49m\u001b[39m.\u001b[39;49mfile_path, newline\u001b[39m=\u001b[39;49m\u001b[39m\"\u001b[39;49m\u001b[39m\"\u001b[39;49m, encoding\u001b[39m=\u001b[39;49m\u001b[39mself\u001b[39;49m\u001b[39m.\u001b[39;49mencoding) \u001b[39mas\u001b[39;00m csvfile:\n\u001b[1;32m     69\u001b[0m         docs \u001b[39m=\u001b[39m \u001b[39mself\u001b[39m\u001b[39m.\u001b[39m__read_file(csvfile)\n",
      "\u001b[0;31mFileNotFoundError\u001b[0m: [Errno 2] No such file or directory: 'some_data/penguins.csv'",
      "\nThe above exception was the direct cause of the following exception:\n",
      "\u001b[0;31mRuntimeError\u001b[0m                              Traceback (most recent call last)",
      "Cell \u001b[0;32mIn[3], line 2\u001b[0m\n\u001b[1;32m      1\u001b[0m loader \u001b[39m=\u001b[39m CSVLoader(\u001b[39m'\u001b[39m\u001b[39msome_data/penguins.csv\u001b[39m\u001b[39m'\u001b[39m)\n\u001b[0;32m----> 2\u001b[0m data \u001b[39m=\u001b[39m loader\u001b[39m.\u001b[39;49mload()\n",
      "File \u001b[0;32m~/.local/share/virtualenvs/langchain-udemy-notebooks-Raz3oF7P/lib/python3.11/site-packages/langchain/document_loaders/csv_loader.py:85\u001b[0m, in \u001b[0;36mCSVLoader.load\u001b[0;34m(self)\u001b[0m\n\u001b[1;32m     83\u001b[0m         \u001b[39mraise\u001b[39;00m \u001b[39mRuntimeError\u001b[39;00m(\u001b[39mf\u001b[39m\u001b[39m\"\u001b[39m\u001b[39mError loading \u001b[39m\u001b[39m{\u001b[39;00m\u001b[39mself\u001b[39m\u001b[39m.\u001b[39mfile_path\u001b[39m}\u001b[39;00m\u001b[39m\"\u001b[39m) \u001b[39mfrom\u001b[39;00m \u001b[39me\u001b[39;00m\n\u001b[1;32m     84\u001b[0m \u001b[39mexcept\u001b[39;00m \u001b[39mException\u001b[39;00m \u001b[39mas\u001b[39;00m e:\n\u001b[0;32m---> 85\u001b[0m     \u001b[39mraise\u001b[39;00m \u001b[39mRuntimeError\u001b[39;00m(\u001b[39mf\u001b[39m\u001b[39m\"\u001b[39m\u001b[39mError loading \u001b[39m\u001b[39m{\u001b[39;00m\u001b[39mself\u001b[39m\u001b[39m.\u001b[39mfile_path\u001b[39m}\u001b[39;00m\u001b[39m\"\u001b[39m) \u001b[39mfrom\u001b[39;00m \u001b[39me\u001b[39;00m\n\u001b[1;32m     87\u001b[0m \u001b[39mreturn\u001b[39;00m docs\n",
      "\u001b[0;31mRuntimeError\u001b[0m: Error loading some_data/penguins.csv"
     ]
    }
   ],
   "source": [
    "loader = CSVLoader('some_data/penguins.csv')\n",
    "data = loader.load()"
   ]
  },
  {
   "cell_type": "markdown",
   "metadata": {},
   "source": [
    "HTML Loader - requires Beautiful Soup"
   ]
  },
  {
   "cell_type": "code",
   "execution_count": 4,
   "metadata": {},
   "outputs": [],
   "source": [
    "from langchain.document_loaders import BSHTMLLoader"
   ]
  },
  {
   "cell_type": "code",
   "execution_count": 16,
   "metadata": {},
   "outputs": [],
   "source": [
    "loader = BSHTMLLoader(\"./docs/index.html\")\n",
    "data = loader.load()\n"
   ]
  },
  {
   "cell_type": "code",
   "execution_count": 18,
   "metadata": {},
   "outputs": [
    {
     "name": "stdout",
     "output_type": "stream",
     "text": [
      "Hello\n",
      "Paragraph\n",
      "Heading 2\n",
      "Paragraph 2\n",
      "\n"
     ]
    }
   ],
   "source": [
    "print(data[0].page_content)"
   ]
  },
  {
   "cell_type": "markdown",
   "metadata": {},
   "source": [
    "PyPDFLoader"
   ]
  },
  {
   "cell_type": "code",
   "execution_count": 21,
   "metadata": {},
   "outputs": [],
   "source": [
    "from langchain.document_loaders import PyPDFLoader"
   ]
  },
  {
   "cell_type": "code",
   "execution_count": 22,
   "metadata": {},
   "outputs": [],
   "source": [
    "loader = PyPDFLoader(\"./docs/Stephen-Keen-Resume_2023.pdf\")"
   ]
  },
  {
   "cell_type": "code",
   "execution_count": 23,
   "metadata": {},
   "outputs": [],
   "source": [
    "data = loader.load()"
   ]
  },
  {
   "cell_type": "code",
   "execution_count": 26,
   "metadata": {},
   "outputs": [
    {
     "data": {
      "text/plain": [
       "Document(page_content='Stephen\\nKeen\\nstephen-keen.com\\n|\\n+1\\n780\\n883\\n0710\\n|\\npkeen7@gmail.com\\n|\\nhttps://www.linkedin.com/in/stephen-keen\\n|\\nhttps://github.com/pkeen\\nFULL-STACK\\nDEVELOPER\\nP a s s i o n a t e\\nt e c h n o l o g i s t\\nw i t h\\ne x t e n s i v e\\nh a n d s - o n\\ne x p e r i e n c e\\ni n\\nc r e a t i n g\\na n d\\nd e p l o y i n g\\nw e b\\na p p l i c a t i o n s .\\nS k i l l e d\\ni n \\nJ a v a s c r i p t\\na n d\\nP y t h o n ,\\nw i t h\\na\\nf o c u s\\no n\\nd e s i g n\\na n d\\na u t o m a t i o n .\\nC o m m i t t e d\\nt o\\nc o n t r i b u t i n g\\nt o\\nf o r w a r d - t h i n k i n g\\na n d \\na p p r o a c h i n g\\np r o b l e m\\ns o l v i n g\\nw i t h\\ne n t h u s i a s m .\\nTECHNICAL\\nSKILLS\\nLanguages:\\nJavaScript\\n|\\nPython\\n|\\nPHP\\n|\\nHTML\\n|\\nCSS\\n|\\nSQL \\nLibraries\\nand\\nFrameworks:\\nExpress.js\\n|\\nDjango\\n|\\nReact\\n|\\nMongoose\\n|\\nSequelize\\n|\\nTailwind\\n|\\nMaterial\\nUI\\n|\\nJest \\nDatabase\\nand\\nOther:\\nMongoDB\\n|\\nPostgreSQL\\n|\\nNode\\n|\\nGit\\n|\\nLangchain\\n|\\nPuppeteer\\n|\\nAW S\\n|\\nOAuth\\nEXPERIENCE\\nZenora\\n-\\nOnline\\nCourses\\n-\\nGitHub\\n-\\nFE\\n|\\nGitHub\\n-\\nBE\\n|\\nApp\\n-\\nPostgreSQL\\n|\\nSequelize\\n|\\nExpress\\n|\\nReact\\n2023 \\nOnline\\ncourses\\nsite\\nallowing\\nusers\\nto\\ncreate\\nand\\ncurate\\ncourses\\nquickly\\nand\\neﬀortlessly\\n●\\nImplemented\\na\\nbackend\\nAPI\\nserving\\ndata,\\nhosted\\non\\nHeroku\\n●\\nBuilt\\na\\nmodern,\\nsleek\\nand\\ndynamic\\nfront-end\\nwith\\nReact.\\nRepertoire\\n-\\nGitHub\\n|\\nApp\\n-\\nMongoDB\\n|\\nExpress\\n|\\nReact\\n|\\nNode\\n|\\nTailwind\\nCSS\\n2023 \\nSocial\\nworkout\\napp,\\nadd\\nreps\\nto\\nyour\\nrepertoire,\\nand\\nshare\\ntemplates\\nand\\ngains\\nwith\\ncommunity\\n●\\nBuilt\\na\\nRESTful\\nAPI\\nbackend\\nwith\\nExpress\\nand\\nMongoDB\\n●\\nBuilt\\na\\ndynamic\\nfront-end\\nUI\\nwith\\nReact\\nand\\nTailwind\\nCSS\\n●\\nAnimated\\nGifs\\nexplaining\\nexercises\\nCasharoo\\n-\\nGitHub\\n|\\nApp\\n-\\nDjango\\n|\\nPython\\n|\\nPostgreSQL\\n|\\nVanilla\\nJavaScript\\n2023 \\nSpending\\nand\\nbudgeting\\napp\\nwith\\ncharts\\nand\\ngraphs\\nto\\nanalyze\\ntrends\\n●\\nBullet\\npoints\\nthat\\ndescribe\\nthe\\nfeatures\\nyou\\ncreated\\nin\\nyour\\napp.\\nUse\\nthe\\nformula:\\n●\\nCollaboratively\\nbuilt\\na\\nDjango\\nbackend\\n●\\nImplemented\\nstyling\\nwith\\nTailwind\\nCSS\\nBirth\\nto\\nSeven\\nMatters,\\nIT\\nManager\\nBrighton,\\nUK,\\n08/2015\\n-\\n12/2021\\n●\\nHead\\nof\\nIT\\nfor\\nsmall\\neducation\\n&\\ntraining\\ncompany\\n●\\nBuilt\\nan\\nonline\\ncourse\\nplatform\\nserving\\nthousands\\nof\\nclients\\nand\\ninstitutions\\nsuch\\nas\\nthe\\nUniversity\\nof\\nOxford\\n●\\nCreated\\nautomations\\nin\\ncode\\nand\\nZapier\\nto\\nstreamline\\nbusiness\\noperations\\nEDUCATION\\nGeneral\\nAssembly\\nRemote,\\nCertiﬁcate\\nExpected:\\n09/2023 \\nFull-stack\\nsoftware\\nengineering\\n420+\\nhour\\nprogram\\nfocused\\non\\nproduct\\ndevelopment\\nfundamentals, \\nobject-oriented\\nprogramming,\\nMVC\\nframeworks,\\ndata\\nmodeling,\\nand\\nteam\\ncollaboration\\nstrategies.\\nUniversity\\nof\\nSussex,\\nComputing\\nfor\\nMusic\\nBrighton,\\nUK,\\nGraduated:\\n05/2021\\nAmong\\nvarious\\naudio-visual\\nprojects,\\nI\\nbuilt\\na\\nVST\\naudio\\nplugin\\nthat\\nused\\nFast-Fourier\\nTransform\\nto\\nmanipulate \\nthe\\nindividual\\nfrequency\\nbands\\nof\\nan\\ninput\\nsignal\\nbased\\non\\nthe\\ndynamic\\nintensity\\nof\\nfrequency\\nbands\\nof\\na\\nsecond \\nsignal\\n(side-chain).', metadata={'source': './docs/Stephen-Keen-Resume_2023.pdf', 'page': 0})"
      ]
     },
     "execution_count": 26,
     "metadata": {},
     "output_type": "execute_result"
    }
   ],
   "source": [
    "data[0]"
   ]
  },
  {
   "cell_type": "markdown",
   "metadata": {},
   "source": [
    "Lets try a docx file"
   ]
  },
  {
   "cell_type": "code",
   "execution_count": 27,
   "metadata": {},
   "outputs": [],
   "source": [
    "from langchain.document_loaders import Docx2txtLoader"
   ]
  },
  {
   "cell_type": "code",
   "execution_count": 28,
   "metadata": {},
   "outputs": [],
   "source": [
    "loader = Docx2txtLoader(\"./docs/Full Stack Resume - Stephen Keen.docx\")"
   ]
  },
  {
   "cell_type": "code",
   "execution_count": 29,
   "metadata": {},
   "outputs": [],
   "source": [
    "data = loader.load()"
   ]
  },
  {
   "cell_type": "code",
   "execution_count": 31,
   "metadata": {},
   "outputs": [
    {
     "name": "stdout",
     "output_type": "stream",
     "text": [
      "Stephen Keen\n",
      "\n",
      "https://stephen-keen.vercel.app/ | +1 780 883 0710 | pkeen7@gmail.com | https://www.linkedin.com/in/stephen-keen | https://github.com/pkeen\n",
      "\n",
      "\t\n",
      "\n",
      "\t\n",
      "\n",
      "\tFULL-STACK DEVELOPER\n",
      "\n",
      "\tPassionate technologist with extensive hands-on experience in creating and deploying web applications. Skilled in Javascript and Python, with a focus on design and automation. Committed to contributing to forward-thinking and approaching problem solving with enthusiasm.\n",
      "\n",
      "\tTECHNICAL SKILLS\n",
      "\n",
      "\tLanguages: JavaScript | Python | PHP | HTML | CSS | SQL\n",
      "\n",
      "\tLibraries and Frameworks: Express.js | Django | React | Mongoose | Sequelize | Tailwind | Material UI | Jest\n",
      "\n",
      "\tDatabase and Other: MongoDB | PostgreSQL | Node | Git | Langchain | Puppeteer | AWS | OAuth\n",
      "\n",
      "\t\n",
      "\n",
      "\tEXPERIENCE\n",
      "\n",
      "\t\n",
      "\n",
      "\tZenora - Online Courses - GitHub - FE | GitHub - BE | App - PostgreSQL | Sequelize | Express | React\t2023\n",
      "\n",
      "\tOnline courses site allowing users to create and curate courses quickly and effortlessly\n",
      "\n",
      "\tImplemented a backend API serving data, hosted on Heroku\n",
      "\n",
      "\tBuilt a modern, sleek and dynamic front-end with React.\n",
      "\n",
      "\t\n",
      "\n",
      "\tRepertoire - GitHub | App - MongoDB | Express | React | Node | Tailwind CSS\t2023\n",
      "\n",
      "\tSocial workout app, add reps to your repertoire, and share templates and gains with community\n",
      "\n",
      "\tBuilt a RESTful API backend with Express and MongoDB\n",
      "\n",
      "\tBuilt a dynamic front-end UI with React and Tailwind CSS\n",
      "\n",
      "\tAnimated Gifs explaining exercises\n",
      "\n",
      "\t\n",
      "\n",
      "\tCasharoo - GitHub | App - Django | Python | PostgreSQL | Vanilla JavaScript\t2023\n",
      "\n",
      "\tSpending and budgeting app with charts and graphs to analyze trends\n",
      "\n",
      "\tBullet points that describe the features you created in your app. Use the formula:\n",
      "\n",
      "\tCollaboratively built a Django backend\n",
      "\n",
      "\tImplemented styling with Tailwind CSS\n",
      "\n",
      "\t\n",
      "\n",
      "\tBirth to Seven Matters, IT Manager \tBrighton, UK, 08/2015 - 12/2021\n",
      "\n",
      "\tHead of IT for small education & training company\n",
      "\n",
      "\tBuilt an online course platform serving thousands of clients and institutions such as the University of Oxford\n",
      "\n",
      "\tCreated automations in code and Zapier to streamline business operations\n",
      "\n",
      "\t\n",
      "\n",
      "\tEDUCATION\n",
      "\n",
      "\tGeneral Assembly \tRemote, CA, Graduated: 09/2023\n",
      "\n",
      "\tFull-stack software engineering 420+ hour program focused on product development fundamentals, object-oriented programming, MVC frameworks, data modeling, and team collaboration strategies. \n",
      "\n",
      "\tUniversity of Sussex, Computing for Music\tBrighton, UK, Graduated: 05/2021\n",
      "\n",
      "\tAmong various audio-visual projects, I built a VST audio plugin that used Fast-Fourier Transform to manipulate the individual frequency bands of an input signal based on the dynamic intensity of frequency bands of a second signal (side-chain).\n"
     ]
    }
   ],
   "source": [
    "print(data[0].page_content)"
   ]
  }
 ],
 "metadata": {
  "kernelspec": {
   "display_name": "langchain-udemy-notebooks-Raz3oF7P",
   "language": "python",
   "name": "python3"
  },
  "language_info": {
   "codemirror_mode": {
    "name": "ipython",
    "version": 3
   },
   "file_extension": ".py",
   "mimetype": "text/x-python",
   "name": "python",
   "nbconvert_exporter": "python",
   "pygments_lexer": "ipython3",
   "version": "3.11.4"
  },
  "orig_nbformat": 4
 },
 "nbformat": 4,
 "nbformat_minor": 2
}
