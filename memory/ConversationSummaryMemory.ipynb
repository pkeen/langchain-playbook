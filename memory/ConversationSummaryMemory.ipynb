{
 "cells": [
  {
   "cell_type": "code",
   "execution_count": 1,
   "metadata": {},
   "outputs": [],
   "source": [
    "from langchain.chat_models import ChatOpenAI"
   ]
  },
  {
   "cell_type": "code",
   "execution_count": 2,
   "metadata": {},
   "outputs": [],
   "source": [
    "from langchain.chains import ConversationChain"
   ]
  },
  {
   "cell_type": "code",
   "execution_count": 4,
   "metadata": {},
   "outputs": [],
   "source": [
    "from langchain.memory import ConversationSummaryBufferMemory"
   ]
  },
  {
   "cell_type": "code",
   "execution_count": 5,
   "metadata": {},
   "outputs": [],
   "source": [
    "llm = ChatOpenAI()"
   ]
  },
  {
   "cell_type": "code",
   "execution_count": 8,
   "metadata": {},
   "outputs": [],
   "source": [
    "memory = ConversationSummaryBufferMemory(llm=llm, max_token_limit=100)"
   ]
  },
  {
   "cell_type": "code",
   "execution_count": 12,
   "metadata": {},
   "outputs": [],
   "source": [
    "conversation = ConversationChain(llm=llm, memory=memory)"
   ]
  },
  {
   "cell_type": "code",
   "execution_count": 15,
   "metadata": {},
   "outputs": [
    {
     "data": {
      "text/plain": [
       "\"Sure! Here are some travel plans for San Francisco:\\n1. Explore the iconic Golden Gate Bridge, known for its stunning views of the city and the bay.\\n2. Visit Alcatraz Island, home to the infamous former federal prison. You can take a ferry to the island and explore the cellblocks.\\n3. Explore Fisherman's Wharf, a popular tourist destination with seafood restaurants, souvenir shops, and street performers.\\n4. Discover Chinatown, the oldest and largest Chinatown in North America. You can explore the vibrant streets, visit traditional shops, and try delicious Chinese cuisine.\\n5. Take a ride on one of San Francisco's iconic cable cars, a historic and fun way to explore the city's hilly streets.\\n6. Visit the Exploratorium, a hands-on science museum with interactive exhibits that are both educational and entertaining.\\n7. Spend some time in Golden Gate Park, a beautiful urban park with gardens, lakes, museums, and outdoor activities.\\n\\nIf you have any specific preferences or if there's anything else I can assist you with, feel free to let me know!\""
      ]
     },
     "execution_count": 15,
     "metadata": {},
     "output_type": "execute_result"
    }
   ],
   "source": [
    "conversation.predict(input=\"Give me some travel plans for san franscisco\")"
   ]
  },
  {
   "cell_type": "code",
   "execution_count": 16,
   "metadata": {},
   "outputs": [
    {
     "data": {
      "text/plain": [
       "\"Las Vegas is a vibrant and bustling city in the state of Nevada. There are plenty of things to do and see in Las Vegas, depending on your interests. Here are some travel plans for you:\\n\\n1. Explore the Las Vegas Strip: This famous stretch of road is home to iconic hotels, casinos, and entertainment venues. You can stroll along the Strip, admire the dazzling lights, and visit famous landmarks like the Bellagio Fountains and the Eiffel Tower replica at Paris Las Vegas.\\n\\n2. Visit the casinos: Las Vegas is known for its world-class casinos. You can try your luck at popular casinos like the Venetian, Caesars Palace, and the MGM Grand. Enjoy the excitement of gambling, catch a show, or dine at one of the many celebrity chef restaurants.\\n\\n3. Experience a show: Las Vegas is renowned for its spectacular live performances. You can watch a Cirque du Soleil show, enjoy a magic performance by Penn & Teller, or be entertained by a famous musical or comedy act. There are shows to suit every taste and preference.\\n\\n4. Explore the Fremont Street Experience: Located in downtown Las Vegas, the Fremont Street Experience is a pedestrian mall with a vibrant atmosphere. You can enjoy live music, dazzling light shows, street performers, and a variety of dining and shopping options.\\n\\n5. Take a day trip to the Grand Canyon: If you have the time, consider taking a day trip to the majestic Grand Canyon. It's just a few hours' drive from Las Vegas, and you can experience the awe-inspiring beauty of this natural wonder. There are various tours available that can take you to different parts of the Grand Canyon.\\n\\nRemember to plan your visit according to your interests and preferences. Las Vegas offers a wide range of entertainment options, so you're bound to find something that suits your taste. Let me know if you need any more specific information or assistance with your travel plans!\""
      ]
     },
     "execution_count": 16,
     "metadata": {},
     "output_type": "execute_result"
    }
   ],
   "source": [
    "conversation.predict(input=\"Give me some travel plans for Las Vegas\")"
   ]
  },
  {
   "cell_type": "code",
   "execution_count": 17,
   "metadata": {},
   "outputs": [
    {
     "data": {
      "text/plain": [
       "{'history': 'System: The human asks the AI for travel plans in San Francisco and the AI provides a list of ideas. The AI offers to assist further if the human has any specific preferences. The human then asks for travel plans in Las Vegas, and the AI provides a detailed list of things to do and see in the city, including exploring the Las Vegas Strip, visiting the casinos, experiencing a show, exploring the Fremont Street Experience, and taking a day trip to the Grand Canyon. The AI suggests planning the visit according to individual interests and preferences and offers further assistance if needed.'}"
      ]
     },
     "execution_count": 17,
     "metadata": {},
     "output_type": "execute_result"
    }
   ],
   "source": [
    "memory.load_memory_variables({})"
   ]
  },
  {
   "cell_type": "markdown",
   "metadata": {},
   "source": []
  }
 ],
 "metadata": {
  "kernelspec": {
   "display_name": "langchain-udemy-notebooks-Raz3oF7P",
   "language": "python",
   "name": "python3"
  },
  "language_info": {
   "codemirror_mode": {
    "name": "ipython",
    "version": 3
   },
   "file_extension": ".py",
   "mimetype": "text/x-python",
   "name": "python",
   "nbconvert_exporter": "python",
   "pygments_lexer": "ipython3",
   "version": "3.11.4"
  }
 },
 "nbformat": 4,
 "nbformat_minor": 2
}
