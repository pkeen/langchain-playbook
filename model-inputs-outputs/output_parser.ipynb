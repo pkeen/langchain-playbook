{
 "cells": [
  {
   "cell_type": "code",
   "execution_count": 2,
   "metadata": {},
   "outputs": [],
   "source": [
    "import os\n",
    "from dotenv import load_dotenv\n",
    "load_dotenv()\n",
    "os.environ[\"OPENAI_API_KEY\"] = os.getenv(\"OPENAI_API_KEY\")"
   ]
  },
  {
   "cell_type": "code",
   "execution_count": 31,
   "metadata": {},
   "outputs": [],
   "source": [
    "from langchain.chat_models import ChatOpenAI\n",
    "from langchain.llms import OpenAI\n",
    "\n",
    "chat = ChatOpenAI()\n",
    "llm = OpenAI()\n"
   ]
  },
  {
   "cell_type": "code",
   "execution_count": 12,
   "metadata": {},
   "outputs": [],
   "source": [
    "from langchain.output_parsers import DatetimeOutputParser\n",
    "\n",
    "output_parser = DatetimeOutputParser()"
   ]
  },
  {
   "cell_type": "code",
   "execution_count": 5,
   "metadata": {},
   "outputs": [
    {
     "data": {
      "text/plain": [
       "'Write a datetime string that matches the \\n            following pattern: \"%Y-%m-%dT%H:%M:%S.%fZ\". Examples: 1060-01-16T01:55:06.262421Z, 1607-10-31T08:41:21.962334Z, 1036-03-16T08:21:51.478016Z'"
      ]
     },
     "execution_count": 5,
     "metadata": {},
     "output_type": "execute_result"
    }
   ],
   "source": [
    "output_parser.get_format_instructions()"
   ]
  },
  {
   "cell_type": "code",
   "execution_count": 6,
   "metadata": {},
   "outputs": [],
   "source": [
    "from langchain.prompts.chat import HumanMessagePromptTemplate, ChatPromptTemplate"
   ]
  },
  {
   "cell_type": "code",
   "execution_count": 7,
   "metadata": {},
   "outputs": [],
   "source": [
    "template_text = \"{request} \\n {format_instructions}\"\n",
    "human_prompt = HumanMessagePromptTemplate.from_template(template_text)"
   ]
  },
  {
   "cell_type": "code",
   "execution_count": 8,
   "metadata": {},
   "outputs": [],
   "source": [
    "chat_prompt = ChatPromptTemplate.from_messages([human_prompt])"
   ]
  },
  {
   "cell_type": "code",
   "execution_count": 16,
   "metadata": {},
   "outputs": [],
   "source": [
    "model_request = chat_prompt.format_prompt(request=\"what date was the 13th ammendment ratified in the US?\", format_instructions=output_parser.get_format_instructions()).to_messages()"
   ]
  },
  {
   "cell_type": "code",
   "execution_count": 17,
   "metadata": {},
   "outputs": [],
   "source": [
    "result = chat(model_request, temperature=0)\n"
   ]
  },
  {
   "cell_type": "code",
   "execution_count": 18,
   "metadata": {},
   "outputs": [
    {
     "data": {
      "text/plain": [
       "'The 13th Amendment was ratified in the US on December 6, 1865. \\n\\nThe datetime string that matches the given pattern \"%Y-%m-%dT%H:%M:%S.%fZ\" for this date would be \"1865-12-06T00:00:00.000000Z\".'"
      ]
     },
     "execution_count": 18,
     "metadata": {},
     "output_type": "execute_result"
    }
   ],
   "source": [
    "result.content"
   ]
  },
  {
   "cell_type": "markdown",
   "metadata": {},
   "source": [
    "This response is an error, it was supposed to give a datetime\n"
   ]
  },
  {
   "cell_type": "markdown",
   "metadata": {},
   "source": [
    "We could fix it by providing a system prompt, or using OutputFixingParser"
   ]
  },
  {
   "cell_type": "code",
   "execution_count": 26,
   "metadata": {},
   "outputs": [],
   "source": [
    "from langchain.output_parsers import OutputFixingParser"
   ]
  },
  {
   "cell_type": "code",
   "execution_count": 20,
   "metadata": {},
   "outputs": [],
   "source": [
    "misformatted = result.content"
   ]
  },
  {
   "cell_type": "code",
   "execution_count": 32,
   "metadata": {},
   "outputs": [],
   "source": [
    "new_parser = OutputFixingParser.from_llm(parser=output_parser, llm=llm)"
   ]
  },
  {
   "cell_type": "code",
   "execution_count": 28,
   "metadata": {},
   "outputs": [
    {
     "data": {
      "text/plain": [
       "'The 13th Amendment was ratified in the US on December 6, 1865. \\n\\nThe datetime string that matches the given pattern \"%Y-%m-%dT%H:%M:%S.%fZ\" for this date would be \"1865-12-06T00:00:00.000000Z\".'"
      ]
     },
     "execution_count": 28,
     "metadata": {},
     "output_type": "execute_result"
    }
   ],
   "source": [
    "misformatted"
   ]
  },
  {
   "cell_type": "code",
   "execution_count": 34,
   "metadata": {},
   "outputs": [
    {
     "ename": "OutputParserException",
     "evalue": "Could not parse datetime string: \n\nWrite a datetime string that matches the following pattern: \"%Y-%m-%dT%H:%M:%S.%fZ\". Examples: 1990-01-29T15:36:53.434334Z, 0331-10-21T19:32:12.244030Z, 1314-06-26T03:01:59.608139Z",
     "output_type": "error",
     "traceback": [
      "\u001b[0;31m---------------------------------------------------------------------------\u001b[0m",
      "\u001b[0;31mValueError\u001b[0m                                Traceback (most recent call last)",
      "File \u001b[0;32m~/docs/learning/code/ai/llama_index/gettingstarted_venv/lib/python3.11/site-packages/langchain/output_parsers/datetime.py:45\u001b[0m, in \u001b[0;36mDatetimeOutputParser.parse\u001b[0;34m(self, response)\u001b[0m\n\u001b[1;32m     44\u001b[0m \u001b[39mtry\u001b[39;00m:\n\u001b[0;32m---> 45\u001b[0m     \u001b[39mreturn\u001b[39;00m datetime\u001b[39m.\u001b[39;49mstrptime(response\u001b[39m.\u001b[39;49mstrip(), \u001b[39mself\u001b[39;49m\u001b[39m.\u001b[39;49mformat)\n\u001b[1;32m     46\u001b[0m \u001b[39mexcept\u001b[39;00m \u001b[39mValueError\u001b[39;00m \u001b[39mas\u001b[39;00m e:\n",
      "File \u001b[0;32m/opt/homebrew/Cellar/python@3.11/3.11.4/Frameworks/Python.framework/Versions/3.11/lib/python3.11/_strptime.py:568\u001b[0m, in \u001b[0;36m_strptime_datetime\u001b[0;34m(cls, data_string, format)\u001b[0m\n\u001b[1;32m    566\u001b[0m \u001b[39m\u001b[39m\u001b[39m\"\"\"Return a class cls instance based on the input string and the\u001b[39;00m\n\u001b[1;32m    567\u001b[0m \u001b[39mformat string.\"\"\"\u001b[39;00m\n\u001b[0;32m--> 568\u001b[0m tt, fraction, gmtoff_fraction \u001b[39m=\u001b[39m _strptime(data_string, \u001b[39mformat\u001b[39;49m)\n\u001b[1;32m    569\u001b[0m tzname, gmtoff \u001b[39m=\u001b[39m tt[\u001b[39m-\u001b[39m\u001b[39m2\u001b[39m:]\n",
      "File \u001b[0;32m/opt/homebrew/Cellar/python@3.11/3.11.4/Frameworks/Python.framework/Versions/3.11/lib/python3.11/_strptime.py:349\u001b[0m, in \u001b[0;36m_strptime\u001b[0;34m(data_string, format)\u001b[0m\n\u001b[1;32m    348\u001b[0m \u001b[39mif\u001b[39;00m \u001b[39mnot\u001b[39;00m found:\n\u001b[0;32m--> 349\u001b[0m     \u001b[39mraise\u001b[39;00m \u001b[39mValueError\u001b[39;00m(\u001b[39m\"\u001b[39m\u001b[39mtime data \u001b[39m\u001b[39m%r\u001b[39;00m\u001b[39m does not match format \u001b[39m\u001b[39m%r\u001b[39;00m\u001b[39m\"\u001b[39m \u001b[39m%\u001b[39m\n\u001b[1;32m    350\u001b[0m                      (data_string, \u001b[39mformat\u001b[39m))\n\u001b[1;32m    351\u001b[0m \u001b[39mif\u001b[39;00m \u001b[39mlen\u001b[39m(data_string) \u001b[39m!=\u001b[39m found\u001b[39m.\u001b[39mend():\n",
      "\u001b[0;31mValueError\u001b[0m: time data 'The 13th Amendment was ratified in the US on December 6, 1865. \\n\\nThe datetime string that matches the given pattern \"%Y-%m-%dT%H:%M:%S.%fZ\" for this date would be \"1865-12-06T00:00:00.000000Z\".' does not match format '%Y-%m-%dT%H:%M:%S.%fZ'",
      "\nThe above exception was the direct cause of the following exception:\n",
      "\u001b[0;31mOutputParserException\u001b[0m                     Traceback (most recent call last)",
      "File \u001b[0;32m~/docs/learning/code/ai/llama_index/gettingstarted_venv/lib/python3.11/site-packages/langchain/output_parsers/fix.py:47\u001b[0m, in \u001b[0;36mOutputFixingParser.parse\u001b[0;34m(self, completion)\u001b[0m\n\u001b[1;32m     46\u001b[0m \u001b[39mtry\u001b[39;00m:\n\u001b[0;32m---> 47\u001b[0m     parsed_completion \u001b[39m=\u001b[39m \u001b[39mself\u001b[39;49m\u001b[39m.\u001b[39;49mparser\u001b[39m.\u001b[39;49mparse(completion)\n\u001b[1;32m     48\u001b[0m \u001b[39mexcept\u001b[39;00m OutputParserException \u001b[39mas\u001b[39;00m e:\n",
      "File \u001b[0;32m~/docs/learning/code/ai/llama_index/gettingstarted_venv/lib/python3.11/site-packages/langchain/output_parsers/datetime.py:47\u001b[0m, in \u001b[0;36mDatetimeOutputParser.parse\u001b[0;34m(self, response)\u001b[0m\n\u001b[1;32m     46\u001b[0m \u001b[39mexcept\u001b[39;00m \u001b[39mValueError\u001b[39;00m \u001b[39mas\u001b[39;00m e:\n\u001b[0;32m---> 47\u001b[0m     \u001b[39mraise\u001b[39;00m OutputParserException(\n\u001b[1;32m     48\u001b[0m         \u001b[39mf\u001b[39m\u001b[39m\"\u001b[39m\u001b[39mCould not parse datetime string: \u001b[39m\u001b[39m{\u001b[39;00mresponse\u001b[39m}\u001b[39;00m\u001b[39m\"\u001b[39m\n\u001b[1;32m     49\u001b[0m     ) \u001b[39mfrom\u001b[39;00m \u001b[39me\u001b[39;00m\n",
      "\u001b[0;31mOutputParserException\u001b[0m: Could not parse datetime string: The 13th Amendment was ratified in the US on December 6, 1865. \n\nThe datetime string that matches the given pattern \"%Y-%m-%dT%H:%M:%S.%fZ\" for this date would be \"1865-12-06T00:00:00.000000Z\".",
      "\nDuring handling of the above exception, another exception occurred:\n",
      "\u001b[0;31mValueError\u001b[0m                                Traceback (most recent call last)",
      "File \u001b[0;32m~/docs/learning/code/ai/llama_index/gettingstarted_venv/lib/python3.11/site-packages/langchain/output_parsers/datetime.py:45\u001b[0m, in \u001b[0;36mDatetimeOutputParser.parse\u001b[0;34m(self, response)\u001b[0m\n\u001b[1;32m     44\u001b[0m \u001b[39mtry\u001b[39;00m:\n\u001b[0;32m---> 45\u001b[0m     \u001b[39mreturn\u001b[39;00m datetime\u001b[39m.\u001b[39;49mstrptime(response\u001b[39m.\u001b[39;49mstrip(), \u001b[39mself\u001b[39;49m\u001b[39m.\u001b[39;49mformat)\n\u001b[1;32m     46\u001b[0m \u001b[39mexcept\u001b[39;00m \u001b[39mValueError\u001b[39;00m \u001b[39mas\u001b[39;00m e:\n",
      "File \u001b[0;32m/opt/homebrew/Cellar/python@3.11/3.11.4/Frameworks/Python.framework/Versions/3.11/lib/python3.11/_strptime.py:568\u001b[0m, in \u001b[0;36m_strptime_datetime\u001b[0;34m(cls, data_string, format)\u001b[0m\n\u001b[1;32m    566\u001b[0m \u001b[39m\u001b[39m\u001b[39m\"\"\"Return a class cls instance based on the input string and the\u001b[39;00m\n\u001b[1;32m    567\u001b[0m \u001b[39mformat string.\"\"\"\u001b[39;00m\n\u001b[0;32m--> 568\u001b[0m tt, fraction, gmtoff_fraction \u001b[39m=\u001b[39m _strptime(data_string, \u001b[39mformat\u001b[39;49m)\n\u001b[1;32m    569\u001b[0m tzname, gmtoff \u001b[39m=\u001b[39m tt[\u001b[39m-\u001b[39m\u001b[39m2\u001b[39m:]\n",
      "File \u001b[0;32m/opt/homebrew/Cellar/python@3.11/3.11.4/Frameworks/Python.framework/Versions/3.11/lib/python3.11/_strptime.py:349\u001b[0m, in \u001b[0;36m_strptime\u001b[0;34m(data_string, format)\u001b[0m\n\u001b[1;32m    348\u001b[0m \u001b[39mif\u001b[39;00m \u001b[39mnot\u001b[39;00m found:\n\u001b[0;32m--> 349\u001b[0m     \u001b[39mraise\u001b[39;00m \u001b[39mValueError\u001b[39;00m(\u001b[39m\"\u001b[39m\u001b[39mtime data \u001b[39m\u001b[39m%r\u001b[39;00m\u001b[39m does not match format \u001b[39m\u001b[39m%r\u001b[39;00m\u001b[39m\"\u001b[39m \u001b[39m%\u001b[39m\n\u001b[1;32m    350\u001b[0m                      (data_string, \u001b[39mformat\u001b[39m))\n\u001b[1;32m    351\u001b[0m \u001b[39mif\u001b[39;00m \u001b[39mlen\u001b[39m(data_string) \u001b[39m!=\u001b[39m found\u001b[39m.\u001b[39mend():\n",
      "\u001b[0;31mValueError\u001b[0m: time data 'Write a datetime string that matches the following pattern: \"%Y-%m-%dT%H:%M:%S.%fZ\". Examples: 1990-01-29T15:36:53.434334Z, 0331-10-21T19:32:12.244030Z, 1314-06-26T03:01:59.608139Z' does not match format '%Y-%m-%dT%H:%M:%S.%fZ'",
      "\nThe above exception was the direct cause of the following exception:\n",
      "\u001b[0;31mOutputParserException\u001b[0m                     Traceback (most recent call last)",
      "Cell \u001b[0;32mIn[34], line 1\u001b[0m\n\u001b[0;32m----> 1\u001b[0m new_parser\u001b[39m.\u001b[39;49mparse(misformatted)\n",
      "File \u001b[0;32m~/docs/learning/code/ai/llama_index/gettingstarted_venv/lib/python3.11/site-packages/langchain/output_parsers/fix.py:54\u001b[0m, in \u001b[0;36mOutputFixingParser.parse\u001b[0;34m(self, completion)\u001b[0m\n\u001b[1;32m     48\u001b[0m \u001b[39mexcept\u001b[39;00m OutputParserException \u001b[39mas\u001b[39;00m e:\n\u001b[1;32m     49\u001b[0m     new_completion \u001b[39m=\u001b[39m \u001b[39mself\u001b[39m\u001b[39m.\u001b[39mretry_chain\u001b[39m.\u001b[39mrun(\n\u001b[1;32m     50\u001b[0m         instructions\u001b[39m=\u001b[39m\u001b[39mself\u001b[39m\u001b[39m.\u001b[39mparser\u001b[39m.\u001b[39mget_format_instructions(),\n\u001b[1;32m     51\u001b[0m         completion\u001b[39m=\u001b[39mcompletion,\n\u001b[1;32m     52\u001b[0m         error\u001b[39m=\u001b[39m\u001b[39mrepr\u001b[39m(e),\n\u001b[1;32m     53\u001b[0m     )\n\u001b[0;32m---> 54\u001b[0m     parsed_completion \u001b[39m=\u001b[39m \u001b[39mself\u001b[39;49m\u001b[39m.\u001b[39;49mparser\u001b[39m.\u001b[39;49mparse(new_completion)\n\u001b[1;32m     56\u001b[0m \u001b[39mreturn\u001b[39;00m parsed_completion\n",
      "File \u001b[0;32m~/docs/learning/code/ai/llama_index/gettingstarted_venv/lib/python3.11/site-packages/langchain/output_parsers/datetime.py:47\u001b[0m, in \u001b[0;36mDatetimeOutputParser.parse\u001b[0;34m(self, response)\u001b[0m\n\u001b[1;32m     45\u001b[0m     \u001b[39mreturn\u001b[39;00m datetime\u001b[39m.\u001b[39mstrptime(response\u001b[39m.\u001b[39mstrip(), \u001b[39mself\u001b[39m\u001b[39m.\u001b[39mformat)\n\u001b[1;32m     46\u001b[0m \u001b[39mexcept\u001b[39;00m \u001b[39mValueError\u001b[39;00m \u001b[39mas\u001b[39;00m e:\n\u001b[0;32m---> 47\u001b[0m     \u001b[39mraise\u001b[39;00m OutputParserException(\n\u001b[1;32m     48\u001b[0m         \u001b[39mf\u001b[39m\u001b[39m\"\u001b[39m\u001b[39mCould not parse datetime string: \u001b[39m\u001b[39m{\u001b[39;00mresponse\u001b[39m}\u001b[39;00m\u001b[39m\"\u001b[39m\n\u001b[1;32m     49\u001b[0m     ) \u001b[39mfrom\u001b[39;00m \u001b[39me\u001b[39;00m\n",
      "\u001b[0;31mOutputParserException\u001b[0m: Could not parse datetime string: \n\nWrite a datetime string that matches the following pattern: \"%Y-%m-%dT%H:%M:%S.%fZ\". Examples: 1990-01-29T15:36:53.434334Z, 0331-10-21T19:32:12.244030Z, 1314-06-26T03:01:59.608139Z"
     ]
    }
   ],
   "source": [
    "new_parser.parse(misformatted)"
   ]
  },
  {
   "cell_type": "markdown",
   "metadata": {},
   "source": [
    "So that didnt work. I'm going to add a system message"
   ]
  },
  {
   "cell_type": "code",
   "execution_count": 35,
   "metadata": {},
   "outputs": [],
   "source": [
    "from langchain.prompts import SystemMessagePromptTemplate\n",
    "\n",
    "system_prompt = SystemMessagePromptTemplate.from_template(\"You only reply to questions with a datetime.\")\n"
   ]
  },
  {
   "cell_type": "code",
   "execution_count": 36,
   "metadata": {},
   "outputs": [],
   "source": [
    "chat_prompt = ChatPromptTemplate.from_messages([system_prompt, human_prompt])"
   ]
  },
  {
   "cell_type": "code",
   "execution_count": 38,
   "metadata": {},
   "outputs": [],
   "source": [
    "model_request = chat_prompt.format_prompt(request=\"what date was the 13th ammendment ratified in the US?\", format_instructions=output_parser.get_format_instructions()).to_messages()\n",
    "result = chat(model_request, temperature=0)\n"
   ]
  },
  {
   "cell_type": "code",
   "execution_count": 40,
   "metadata": {},
   "outputs": [
    {
     "data": {
      "text/plain": [
       "datetime.datetime(1865, 12, 6, 0, 0)"
      ]
     },
     "execution_count": 40,
     "metadata": {},
     "output_type": "execute_result"
    }
   ],
   "source": [
    "output_parser.parse(result.content)"
   ]
  }
 ],
 "metadata": {
  "kernelspec": {
   "display_name": "Python (gettingstarted_env)",
   "language": "python",
   "name": "gettingstarted_env"
  },
  "language_info": {
   "codemirror_mode": {
    "name": "ipython",
    "version": 3
   },
   "file_extension": ".py",
   "mimetype": "text/x-python",
   "name": "python",
   "nbconvert_exporter": "python",
   "pygments_lexer": "ipython3",
   "version": "3.11.4"
  },
  "orig_nbformat": 4
 },
 "nbformat": 4,
 "nbformat_minor": 2
}
