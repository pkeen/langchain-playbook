{
 "cells": [
  {
   "cell_type": "code",
   "execution_count": 13,
   "metadata": {},
   "outputs": [],
   "source": [
    "from langchain.chat_models import ChatOpenAI\n",
    "from langchain.prompts import ChatPromptTemplate, HumanMessagePromptTemplate"
   ]
  },
  {
   "cell_type": "code",
   "execution_count": 14,
   "metadata": {},
   "outputs": [],
   "source": [
    "import os\n",
    "from dotenv import load_dotenv\n",
    "load_dotenv()\n",
    "os.environ[\"OPENAI_API_KEY\"] = os.getenv(\"OPENAI_API_KEY\")"
   ]
  },
  {
   "cell_type": "code",
   "execution_count": 15,
   "metadata": {},
   "outputs": [],
   "source": [
    "from langchain.chains import LLMChain, SequentialChain"
   ]
  },
  {
   "cell_type": "code",
   "execution_count": 16,
   "metadata": {},
   "outputs": [],
   "source": [
    "llm = ChatOpenAI()"
   ]
  },
  {
   "cell_type": "code",
   "execution_count": 6,
   "metadata": {},
   "outputs": [],
   "source": [
    "# Employee Performance Review INPUT TEXT\n",
    "## LLM CHAIN -- Summary from Review text\n",
    "# Summary --> LLM Chain --> Weaknesses\n",
    "# Weaknesses --> Improvement Plan"
   ]
  },
  {
   "cell_type": "code",
   "execution_count": 17,
   "metadata": {},
   "outputs": [],
   "source": [
    "template1 = \"Give a summary of this employees performance review: \\n {review}\"\n",
    "prompt1 = ChatPromptTemplate.from_template(template=template1)\n",
    "chain1 = LLMChain(llm=llm, prompt=prompt1, output_key='review_summary')"
   ]
  },
  {
   "cell_type": "code",
   "execution_count": 18,
   "metadata": {},
   "outputs": [],
   "source": [
    "template2 = \"Identify key employee weaknesses in this review summary: \\n {review_summary}\"\n",
    "prompt2 = ChatPromptTemplate.from_template(template=template2)\n",
    "chain2 = LLMChain(llm=llm, prompt=prompt2, output_key='weaknesses')"
   ]
  },
  {
   "cell_type": "code",
   "execution_count": 19,
   "metadata": {},
   "outputs": [],
   "source": [
    "template3 = \"Create a personalized plan to help address and fix these weaknesses \\n {weaknesses}\"\n",
    "prompt3 = ChatPromptTemplate.from_template(template=template3)\n",
    "chain3 = LLMChain(llm=llm, prompt=prompt3, output_key='final_plan')"
   ]
  },
  {
   "cell_type": "code",
   "execution_count": 20,
   "metadata": {},
   "outputs": [],
   "source": [
    "seq_chain = SequentialChain(chains=[chain1, chain2, chain3], input_variables=['review'], output_variables=['review_summary', 'weaknesses', 'final_plan'], verbose=True)"
   ]
  },
  {
   "cell_type": "code",
   "execution_count": 21,
   "metadata": {},
   "outputs": [],
   "source": [
    "employee_review = \"\"\"\n",
    "\n",
    "**Company:** ABC Corporation  \n",
    "**Employee:** John Smith  \n",
    "**Position:** Senior Sales Manager  \n",
    "**Review Period:** January 1, 2023, to December 31, 2023\n",
    "\n",
    "**Overall Performance Rating:** 4.5 out of 5\n",
    "\n",
    "**Strengths:**\n",
    "\n",
    "1. **Sales Leadership:** John consistently demonstrated strong leadership in the sales department. His ability to motivate his team and set challenging yet achievable targets was a key factor in the department's success this year.\n",
    "\n",
    "2. **Customer Relationship Management:** John has excelled in building and maintaining strong relationships with key clients. His personalized approach and deep understanding of their needs have resulted in increased customer satisfaction and repeat business.\n",
    "\n",
    "3. **Adaptability:** In a rapidly changing market, John has shown a remarkable ability to adapt to new strategies and technologies. He played a pivotal role in implementing our new CRM system, which significantly improved sales efficiency.\n",
    "\n",
    "4. **Team Collaboration:** John fosters a collaborative work environment. He actively encourages team members to share ideas and best practices, which has led to a more cohesive and productive sales team.\n",
    "\n",
    "5. **Communication Skills:** John's communication skills are excellent. He regularly communicates departmental updates and performance metrics to senior management, making it easier for us to make informed decisions.\n",
    "\n",
    "**Areas for Improvement:**\n",
    "\n",
    "1. **Time Management:** While John's dedication to his role is commendable, he sometimes struggles with time management. There were instances where he missed deadlines, causing minor disruptions in project timelines.\n",
    "\n",
    "2. **Delegation:** John tends to take on a heavy workload himself, which can lead to burnout. Encouraging him to delegate more effectively could help distribute the workload and improve overall team efficiency.\n",
    "\n",
    "3. **Feedback Reception:** John sometimes struggles with receiving constructive feedback. Encouraging him to be more open to feedback and using it as a tool for personal growth will benefit both him and the team.\n",
    "\n",
    "4. **Technology Proficiency:** While John adapted well to the new CRM system, there is room for improvement in his overall technology proficiency. Additional training in this area could further enhance his efficiency.\n",
    "\n",
    "**Summary:**\n",
    "\n",
    "John Smith has been a valuable asset to ABC Corporation during the review period. His strengths in sales leadership, customer relationship management, adaptability, team collaboration, and communication skills have contributed significantly to the company's success. However, addressing the identified areas for improvement, such as time management, delegation, feedback reception, and technology proficiency, will help John continue to excel and contribute even more effectively to our organization's growth.\n",
    "\n",
    "We look forward to seeing John's continued development and contributions in the coming year.\n",
    "\n",
    "---\n",
    "\n",
    "Please note that this is a fictional example and should not be used for any actual employee review without appropriate modifications and considerations specific to your organization's policies and procedures.\n",
    "\"\"\""
   ]
  },
  {
   "cell_type": "code",
   "execution_count": 23,
   "metadata": {},
   "outputs": [
    {
     "name": "stdout",
     "output_type": "stream",
     "text": [
      "\n",
      "\n",
      "\u001b[1m> Entering new SequentialChain chain...\u001b[0m\n",
      "\n",
      "\u001b[1m> Finished chain.\u001b[0m\n"
     ]
    }
   ],
   "source": [
    "result = seq_chain(employee_review)"
   ]
  }
 ],
 "metadata": {
  "kernelspec": {
   "display_name": "langchain-udemy-notebooks-Raz3oF7P",
   "language": "python",
   "name": "python3"
  },
  "language_info": {
   "codemirror_mode": {
    "name": "ipython",
    "version": 3
   },
   "file_extension": ".py",
   "mimetype": "text/x-python",
   "name": "python",
   "nbconvert_exporter": "python",
   "pygments_lexer": "ipython3",
   "version": "3.11.4"
  }
 },
 "nbformat": 4,
 "nbformat_minor": 2
}
