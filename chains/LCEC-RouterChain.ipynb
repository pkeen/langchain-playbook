{
 "cells": [
  {
   "cell_type": "code",
   "execution_count": 33,
   "metadata": {},
   "outputs": [],
   "source": [
    "from langchain.prompts import ChatPromptTemplate"
   ]
  },
  {
   "cell_type": "code",
   "execution_count": 34,
   "metadata": {},
   "outputs": [],
   "source": [
    "from langchain.chat_models import ChatOpenAI\n",
    "from langchain.schema.output_parser import StrOutputParser\n",
    "from langchain.schema.runnable import RunnableBranch"
   ]
  },
  {
   "cell_type": "code",
   "execution_count": 35,
   "metadata": {},
   "outputs": [],
   "source": [
    "llm = ChatOpenAI()"
   ]
  },
  {
   "cell_type": "code",
   "execution_count": 62,
   "metadata": {},
   "outputs": [],
   "source": [
    "categorize_prompt = \"\"\"\n",
    "Given the following question about physics, classify it as 'beginner', 'expert' or 'uncategorized'.\\n\n",
    "Your answer should be based on the percieved level of the question. If it is basic (related to simpler physics topics), reply 'beginner'. If it relates to advanced physics topics reply 'expert'. If the question does not relate to physics, reply 'uncategorized'.\\n\n",
    "Do not respond with more than one word. \\n\n",
    "<question>\n",
    "{question}\n",
    "</question>\n",
    "\"\"\"\n",
    "chain = ChatPromptTemplate.from_template(template=categorize_prompt) | llm | StrOutputParser()"
   ]
  },
  {
   "cell_type": "code",
   "execution_count": 66,
   "metadata": {},
   "outputs": [
    {
     "name": "stdout",
     "output_type": "stream",
     "text": [
      "expert\n"
     ]
    }
   ],
   "source": [
    "print(chain.invoke({\"question\": \"what are feyman diagrams?\"}))"
   ]
  },
  {
   "cell_type": "code",
   "execution_count": 49,
   "metadata": {},
   "outputs": [],
   "source": [
    "beginner_template=\"\"\"You are a physics teacher who is really focused on beginners, explaining concepts simply. You assume no prior knowledge.\n",
    "Here is your question: \\n\n",
    "{question}\n",
    "\"\"\""
   ]
  },
  {
   "cell_type": "code",
   "execution_count": 50,
   "metadata": {},
   "outputs": [],
   "source": [
    "expert_template=\"\"\"You are a physics professor who explains physics topics to advanced audience members. You can assume anyone you answer to has a PHD in Physics.\n",
    "here is your question: \\n\n",
    "{question}\"\"\""
   ]
  },
  {
   "cell_type": "code",
   "execution_count": 51,
   "metadata": {},
   "outputs": [],
   "source": [
    "beginner_chain = ChatPromptTemplate.from_template(beginner_template) | llm\n",
    "expert_chain = ChatPromptTemplate.from_template(expert_template) | llm"
   ]
  },
  {
   "cell_type": "code",
   "execution_count": 69,
   "metadata": {},
   "outputs": [
    {
     "name": "stdout",
     "output_type": "stream",
     "text": [
      "Magnets are objects that have the ability to attract certain materials like iron, nickel, and cobalt. They can pull these materials towards them or push them away, depending on how they are positioned. Magnets have two ends or poles called the north pole and the south pole. Similar poles repel each other, meaning two north poles or two south poles will push away from each other, while opposite poles attract each other, meaning a north pole and a south pole will pull towards each other. This property of attracting or repelling other objects is known as magnetism. Magnets can be found naturally in certain rocks, but they can also be made by using special materials and processes."
     ]
    }
   ],
   "source": [
    "for s in beginner_chain.stream({\"question\": \"what are magnets?\"}):\n",
    "    print(s.content, end=\"\", flush=True)"
   ]
  },
  {
   "cell_type": "code",
   "execution_count": 52,
   "metadata": {},
   "outputs": [],
   "source": [
    "general_prompt = ChatPromptTemplate.from_template(\n",
    "    \"You are a helpful assistant. Answer the question as accurately as you can.\\n\\n{input}\"\n",
    ")\n",
    "branch = RunnableBranch(\n",
    "  (lambda x: \"beginner\" in x[\"topic\"].lower(), beginner_chain),\n",
    "  (lambda x: \"expert\" in x[\"topic\"].lower(), expert_chain),\n",
    "  general_prompt\n",
    ")"
   ]
  },
  {
   "cell_type": "code",
   "execution_count": 53,
   "metadata": {},
   "outputs": [],
   "source": [
    "full_chain = {\n",
    "    \"topic\": chain,\n",
    "    \"question\": lambda x: x[\"question\"]\n",
    "} | branch"
   ]
  },
  {
   "cell_type": "code",
   "execution_count": 54,
   "metadata": {},
   "outputs": [
    {
     "data": {
      "text/plain": [
       "AIMessage(content='Magnets are objects that have the ability to attract or repel certain materials. They have a special property called magnetism. When you think of magnets, you might picture those rectangular or horseshoe-shaped objects made of metal. But magnets can come in different shapes and sizes.\\n\\nWhat makes magnets special is that they create a magnetic field around them. This field is like an invisible force that reaches out from the magnet and can affect other objects. When two magnets are near each other, they can either pull towards each other or push away from each other, depending on how they are positioned. This is called attraction or repulsion.\\n\\nMagnets can also attract specific materials like iron, nickel, or cobalt. These materials are called magnetic materials. When a magnet and a magnetic material come close to each other, the magnetic field of the magnet makes the particles within the material align in a certain way, creating a temporary magnet. This is why magnets can stick to some objects but not others.\\n\\nWe use magnets in many everyday objects, such as refrigerator magnets, compasses, and even in some types of technology like speakers and hard drives. Magnets are also used in industries like medicine, transportation, and energy production.\\n\\nSo, in simple terms, magnets are objects that can attract or repel other magnets or certain materials. They have a special property called magnetism, which creates a magnetic field around them.')"
      ]
     },
     "execution_count": 54,
     "metadata": {},
     "output_type": "execute_result"
    }
   ],
   "source": [
    "full_chain.invoke({\"question\": \"what are magnets\"})"
   ]
  },
  {
   "cell_type": "code",
   "execution_count": 1,
   "metadata": {},
   "outputs": [
    {
     "ename": "NameError",
     "evalue": "name 'full_chain' is not defined",
     "output_type": "error",
     "traceback": [
      "\u001b[0;31m---------------------------------------------------------------------------\u001b[0m",
      "\u001b[0;31mNameError\u001b[0m                                 Traceback (most recent call last)",
      "\u001b[1;32m/Users/pete/docs/learning/code/ai/langchain-udemy-notebooks/chains/LCEC-RouterChain.ipynb Cell 13\u001b[0m line \u001b[0;36m1\n\u001b[0;32m----> <a href='vscode-notebook-cell:/Users/pete/docs/learning/code/ai/langchain-udemy-notebooks/chains/LCEC-RouterChain.ipynb#X15sZmlsZQ%3D%3D?line=0'>1</a>\u001b[0m \u001b[39masync\u001b[39;00m \u001b[39mfor\u001b[39;00m s \u001b[39min\u001b[39;00m full_chain\u001b[39m.\u001b[39mastream({\u001b[39m\"\u001b[39m\u001b[39mquestion\u001b[39m\u001b[39m\"\u001b[39m: \u001b[39m\"\u001b[39m\u001b[39mwhat are magnets?\u001b[39m\u001b[39m\"\u001b[39m}):\n\u001b[1;32m      <a href='vscode-notebook-cell:/Users/pete/docs/learning/code/ai/langchain-udemy-notebooks/chains/LCEC-RouterChain.ipynb#X15sZmlsZQ%3D%3D?line=1'>2</a>\u001b[0m     \u001b[39mprint\u001b[39m(s\u001b[39m.\u001b[39mcontent, end\u001b[39m=\u001b[39m\u001b[39m\"\u001b[39m\u001b[39m\"\u001b[39m, flush\u001b[39m=\u001b[39m\u001b[39mTrue\u001b[39;00m)\n",
      "\u001b[0;31mNameError\u001b[0m: name 'full_chain' is not defined"
     ]
    }
   ],
   "source": [
    "async for s in full_chain.astream({\"question\": \"what are magnets?\"}):\n",
    "    print(s.content, end=\"\", flush=True)"
   ]
  },
  {
   "cell_type": "code",
   "execution_count": null,
   "metadata": {},
   "outputs": [],
   "source": []
  }
 ],
 "metadata": {
  "kernelspec": {
   "display_name": "langchain-udemy-notebooks-Raz3oF7P",
   "language": "python",
   "name": "python3"
  },
  "language_info": {
   "codemirror_mode": {
    "name": "ipython",
    "version": 3
   },
   "file_extension": ".py",
   "mimetype": "text/x-python",
   "name": "python",
   "nbconvert_exporter": "python",
   "pygments_lexer": "ipython3",
   "version": "3.11.4"
  }
 },
 "nbformat": 4,
 "nbformat_minor": 2
}
