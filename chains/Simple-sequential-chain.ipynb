{
 "cells": [
  {
   "cell_type": "code",
   "execution_count": 1,
   "metadata": {},
   "outputs": [],
   "source": [
    "from langchain.chat_models import ChatOpenAI\n",
    "from langchain.prompts import ChatPromptTemplate, HumanMessagePromptTemplate"
   ]
  },
  {
   "cell_type": "code",
   "execution_count": 2,
   "metadata": {},
   "outputs": [],
   "source": [
    "import os\n",
    "from dotenv import load_dotenv\n",
    "load_dotenv()\n",
    "os.environ[\"OPENAI_API_KEY\"] = os.getenv(\"OPENAI_API_KEY\")"
   ]
  },
  {
   "cell_type": "code",
   "execution_count": 3,
   "metadata": {},
   "outputs": [],
   "source": [
    "from langchain.chains import LLMChain, SimpleSequentialChain"
   ]
  },
  {
   "cell_type": "code",
   "execution_count": 4,
   "metadata": {},
   "outputs": [],
   "source": [
    "llm = ChatOpenAI()"
   ]
  },
  {
   "cell_type": "code",
   "execution_count": 5,
   "metadata": {},
   "outputs": [],
   "source": [
    "# Topic > [ Outline > Create Blog Post from Outline ] > Blog Post\n",
    "template = \"Give me a simple bullet point outline for a blog post on {topic}\"\n",
    "first_prompt = ChatPromptTemplate.from_template(template=template)\n",
    "chain_one = LLMChain(llm=llm, prompt=first_prompt)"
   ]
  },
  {
   "cell_type": "code",
   "execution_count": 8,
   "metadata": {},
   "outputs": [],
   "source": [
    "template2 = \"Write a blog post using this outline: \\n {outline}\"\n",
    "second_prompt = ChatPromptTemplate.from_template(template=template2)\n",
    "chain_two = LLMChain(llm=llm, prompt=second_prompt)"
   ]
  },
  {
   "cell_type": "code",
   "execution_count": 10,
   "metadata": {},
   "outputs": [],
   "source": [
    "full_chain = SimpleSequentialChain(chains=[chain_one, chain_two], verbose=True)"
   ]
  },
  {
   "cell_type": "code",
   "execution_count": 14,
   "metadata": {},
   "outputs": [
    {
     "name": "stdout",
     "output_type": "stream",
     "text": [
      "\n",
      "\n",
      "\u001b[1m> Entering new SimpleSequentialChain chain...\u001b[0m\n"
     ]
    },
    {
     "name": "stderr",
     "output_type": "stream",
     "text": [
      "Retrying langchain.chat_models.openai.ChatOpenAI.completion_with_retry.<locals>._completion_with_retry in 4.0 seconds as it raised APIConnectionError: Error communicating with OpenAI: ('Connection aborted.', RemoteDisconnected('Remote end closed connection without response')).\n"
     ]
    },
    {
     "name": "stdout",
     "output_type": "stream",
     "text": [
      "\u001b[36;1m\u001b[1;3m- Introduction: Briefly explain what AI is and its current applications\n",
      "- Evolution of AI: Discuss how AI has progressed over the years and the key advancements made\n",
      "- Current state of AI: Highlight the current state of AI technology and its impact on various industries\n",
      "- Future possibilities: Explore the potential future developments in AI and the impact they may have on society\n",
      "- AI in healthcare: Discuss the potential benefits of AI in healthcare, such as improved diagnostics and personalized medicine\n",
      "- AI in transportation: Explain how AI can revolutionize transportation systems, including autonomous vehicles and traffic management\n",
      "- AI in customer service: Discuss the role of AI in customer support and how chatbots and virtual assistants can enhance user experience\n",
      "- Ethical considerations: Address the ethical implications of AI, such as job displacement and data privacy concerns\n",
      "- Challenges and limitations: Highlight the challenges and limitations that AI still faces, including bias and lack of explainability\n",
      "- Conclusion: Summarize the potential of AI to shape the future, while emphasizing the importance of responsible development and ethical considerations.\u001b[0m\n",
      "\u001b[33;1m\u001b[1;3mTitle: Unleashing the Power of Artificial Intelligence: Exploring Current Applications and Future Possibilities\n",
      "\n",
      "Introduction:\n",
      "Artificial Intelligence (AI) has become an integral part of our lives, transforming the way we interact with technology. From voice assistants to recommendation algorithms, AI has made significant advancements in recent years. In this blog post, we will delve into the evolution of AI, its current state, and the potential it holds for various industries. We will also touch upon the ethical considerations and challenges that come along with this powerful technology.\n",
      "\n",
      "Evolution of AI:\n",
      "The field of AI has come a long way since its inception. From the early days of rule-based systems to the emergence of machine learning and deep learning algorithms, AI has made tremendous progress. Key advancements, such as the development of neural networks and the availability of large datasets, have paved the way for breakthroughs in natural language processing, computer vision, and robotics.\n",
      "\n",
      "Current State of AI:\n",
      "AI has already permeated various industries, revolutionizing the way tasks are performed. In healthcare, AI has the potential to transform diagnostics, enabling early detection of diseases and personalized treatment plans. In transportation, autonomous vehicles powered by AI algorithms promise safer roads and improved traffic management. AI-powered chatbots and virtual assistants are enhancing customer service interactions, providing instant support and personalized experiences.\n",
      "\n",
      "Future Possibilities:\n",
      "The future of AI holds endless possibilities. Advancements in AI are poised to bring about significant changes in society. From smart homes and cities to personalized education and entertainment, AI has the potential to shape our daily lives in ways we can only imagine. With the advent of quantum computing and augmented reality, the boundaries of AI are expected to be pushed even further, unleashing new opportunities for innovation and growth.\n",
      "\n",
      "AI in Healthcare:\n",
      "The impact of AI in healthcare is immense. AI algorithms can analyze medical images, detect patterns, and assist radiologists in making accurate diagnoses. Additionally, AI can help in drug discovery, clinical trials, and personalized medicine, tailoring treatments to individual patients. With the integration of wearable devices and health monitoring systems, AI can also provide real-time health monitoring and early warning systems.\n",
      "\n",
      "AI in Transportation:\n",
      "Transportation systems are on the brink of a revolution, thanks to AI. Autonomous vehicles have the potential to reduce accidents and traffic congestion, while improving fuel efficiency. AI algorithms can optimize traffic flow, predict and manage demand, and enable efficient logistics and supply chain management. With the rise of ride-sharing platforms and electric vehicles, AI can further transform the transportation landscape, making it more sustainable and accessible.\n",
      "\n",
      "AI in Customer Service:\n",
      "In the era of digitization, customer service has undergone a paradigm shift with the help of AI. Chatbots and virtual assistants can handle customer queries and provide personalized recommendations, enhancing user experience and reducing response times. AI algorithms can analyze customer data to identify patterns and preferences, enabling businesses to deliver targeted and tailored services.\n",
      "\n",
      "Ethical Considerations:\n",
      "As AI becomes more prevalent, ethical considerations become crucial. Job displacement due to automation is a concern, and efforts must be made to reskill and upskill the workforce. Moreover, data privacy and security issues arise with AI's reliance on vast amounts of personal data. Transparent and accountable AI systems are necessary to address bias, fairness, and accountability concerns.\n",
      "\n",
      "Challenges and Limitations:\n",
      "While AI has made significant strides, challenges and limitations remain. The lack of explainability in deep learning algorithms makes it difficult to understand the decision-making process. Additionally, biases in training data can lead to biased outcomes, reinforcing existing societal inequalities. Safeguarding against adversarial attacks and ensuring the robustness of AI systems are ongoing challenges.\n",
      "\n",
      "Conclusion:\n",
      "AI has the potential to reshape industries and society as a whole. From healthcare to transportation and customer service, AI is already making a profound impact. However, responsible development and ethical considerations must be at the forefront of AI implementation. Addressing challenges and limitations, while ensuring fairness, transparency, and accountability, will pave the way for a future where AI truly benefits humanity. Let us embrace AI's potential while ensuring it remains a force for good.\u001b[0m\n",
      "\n",
      "\u001b[1m> Finished chain.\u001b[0m\n"
     ]
    }
   ],
   "source": [
    "result = full_chain.run('The future of AI')"
   ]
  },
  {
   "cell_type": "code",
   "execution_count": 15,
   "metadata": {},
   "outputs": [
    {
     "data": {
      "text/plain": [
       "str"
      ]
     },
     "execution_count": 15,
     "metadata": {},
     "output_type": "execute_result"
    }
   ],
   "source": [
    "type(result)"
   ]
  },
  {
   "cell_type": "code",
   "execution_count": 16,
   "metadata": {},
   "outputs": [
    {
     "name": "stdout",
     "output_type": "stream",
     "text": [
      "Title: Unleashing the Power of Artificial Intelligence: Exploring Current Applications and Future Possibilities\n",
      "\n",
      "Introduction:\n",
      "Artificial Intelligence (AI) has become an integral part of our lives, transforming the way we interact with technology. From voice assistants to recommendation algorithms, AI has made significant advancements in recent years. In this blog post, we will delve into the evolution of AI, its current state, and the potential it holds for various industries. We will also touch upon the ethical considerations and challenges that come along with this powerful technology.\n",
      "\n",
      "Evolution of AI:\n",
      "The field of AI has come a long way since its inception. From the early days of rule-based systems to the emergence of machine learning and deep learning algorithms, AI has made tremendous progress. Key advancements, such as the development of neural networks and the availability of large datasets, have paved the way for breakthroughs in natural language processing, computer vision, and robotics.\n",
      "\n",
      "Current State of AI:\n",
      "AI has already permeated various industries, revolutionizing the way tasks are performed. In healthcare, AI has the potential to transform diagnostics, enabling early detection of diseases and personalized treatment plans. In transportation, autonomous vehicles powered by AI algorithms promise safer roads and improved traffic management. AI-powered chatbots and virtual assistants are enhancing customer service interactions, providing instant support and personalized experiences.\n",
      "\n",
      "Future Possibilities:\n",
      "The future of AI holds endless possibilities. Advancements in AI are poised to bring about significant changes in society. From smart homes and cities to personalized education and entertainment, AI has the potential to shape our daily lives in ways we can only imagine. With the advent of quantum computing and augmented reality, the boundaries of AI are expected to be pushed even further, unleashing new opportunities for innovation and growth.\n",
      "\n",
      "AI in Healthcare:\n",
      "The impact of AI in healthcare is immense. AI algorithms can analyze medical images, detect patterns, and assist radiologists in making accurate diagnoses. Additionally, AI can help in drug discovery, clinical trials, and personalized medicine, tailoring treatments to individual patients. With the integration of wearable devices and health monitoring systems, AI can also provide real-time health monitoring and early warning systems.\n",
      "\n",
      "AI in Transportation:\n",
      "Transportation systems are on the brink of a revolution, thanks to AI. Autonomous vehicles have the potential to reduce accidents and traffic congestion, while improving fuel efficiency. AI algorithms can optimize traffic flow, predict and manage demand, and enable efficient logistics and supply chain management. With the rise of ride-sharing platforms and electric vehicles, AI can further transform the transportation landscape, making it more sustainable and accessible.\n",
      "\n",
      "AI in Customer Service:\n",
      "In the era of digitization, customer service has undergone a paradigm shift with the help of AI. Chatbots and virtual assistants can handle customer queries and provide personalized recommendations, enhancing user experience and reducing response times. AI algorithms can analyze customer data to identify patterns and preferences, enabling businesses to deliver targeted and tailored services.\n",
      "\n",
      "Ethical Considerations:\n",
      "As AI becomes more prevalent, ethical considerations become crucial. Job displacement due to automation is a concern, and efforts must be made to reskill and upskill the workforce. Moreover, data privacy and security issues arise with AI's reliance on vast amounts of personal data. Transparent and accountable AI systems are necessary to address bias, fairness, and accountability concerns.\n",
      "\n",
      "Challenges and Limitations:\n",
      "While AI has made significant strides, challenges and limitations remain. The lack of explainability in deep learning algorithms makes it difficult to understand the decision-making process. Additionally, biases in training data can lead to biased outcomes, reinforcing existing societal inequalities. Safeguarding against adversarial attacks and ensuring the robustness of AI systems are ongoing challenges.\n",
      "\n",
      "Conclusion:\n",
      "AI has the potential to reshape industries and society as a whole. From healthcare to transportation and customer service, AI is already making a profound impact. However, responsible development and ethical considerations must be at the forefront of AI implementation. Addressing challenges and limitations, while ensuring fairness, transparency, and accountability, will pave the way for a future where AI truly benefits humanity. Let us embrace AI's potential while ensuring it remains a force for good.\n"
     ]
    }
   ],
   "source": [
    "print(result)"
   ]
  }
 ],
 "metadata": {
  "kernelspec": {
   "display_name": "langchain-udemy-notebooks-Raz3oF7P",
   "language": "python",
   "name": "python3"
  },
  "language_info": {
   "codemirror_mode": {
    "name": "ipython",
    "version": 3
   },
   "file_extension": ".py",
   "mimetype": "text/x-python",
   "name": "python",
   "nbconvert_exporter": "python",
   "pygments_lexer": "ipython3",
   "version": "3.11.4"
  }
 },
 "nbformat": 4,
 "nbformat_minor": 2
}
