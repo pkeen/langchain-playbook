{
 "cells": [
  {
   "cell_type": "code",
   "execution_count": 50,
   "metadata": {},
   "outputs": [],
   "source": [
    "from langchain.chat_models import ChatOpenAI\n",
    "from langchain.prompts import ChatPromptTemplate, HumanMessagePromptTemplate"
   ]
  },
  {
   "cell_type": "code",
   "execution_count": 51,
   "metadata": {},
   "outputs": [],
   "source": [
    "import os\n",
    "from dotenv import load_dotenv\n",
    "load_dotenv()\n",
    "os.environ[\"OPENAI_API_KEY\"] = os.getenv(\"OPENAI_API_KEY\")"
   ]
  },
  {
   "cell_type": "code",
   "execution_count": 52,
   "metadata": {},
   "outputs": [],
   "source": [
    "llm = ChatOpenAI()"
   ]
  },
  {
   "cell_type": "code",
   "execution_count": 53,
   "metadata": {},
   "outputs": [],
   "source": [
    "from langchain.schema import StrOutputParser"
   ]
  },
  {
   "cell_type": "code",
   "execution_count": 54,
   "metadata": {},
   "outputs": [],
   "source": [
    "# Topic > [ Outline > Create Blog Post from Outline ] > Blog Post\n",
    "template = \"Give me a simple bullet point outline for a blog post on {topic}\"\n",
    "first_prompt = ChatPromptTemplate.from_template(template=template)\n",
    "chain_one = {\"outline\": first_prompt | llm | StrOutputParser()}"
   ]
  },
  {
   "cell_type": "code",
   "execution_count": 55,
   "metadata": {},
   "outputs": [],
   "source": [
    "template2 = \"Write a blog post using this outline: \\n {outline}\"\n",
    "second_prompt = ChatPromptTemplate.from_template(template=template2)\n",
    "chain_two = second_prompt | llm"
   ]
  },
  {
   "cell_type": "code",
   "execution_count": 45,
   "metadata": {},
   "outputs": [],
   "source": [
    "from langchain.schema.runnable import RunnablePassthrough"
   ]
  },
  {
   "cell_type": "code",
   "execution_count": 56,
   "metadata": {},
   "outputs": [],
   "source": [
    "full_chain = chain_one | chain_two"
   ]
  },
  {
   "cell_type": "code",
   "execution_count": 57,
   "metadata": {},
   "outputs": [
    {
     "name": "stdout",
     "output_type": "stream",
     "text": [
      "Title: The Rise of Self-Driving Cars: Benefits, Challenges, and Future Prospects\n",
      "\n",
      "Introduction:\n",
      "Self-driving cars have become an increasingly common sight on our roads, revolutionizing the way we think about transportation. These autonomous vehicles, equipped with advanced technology and artificial intelligence, have the potential to reshape our society. In this blog post, we will explore the benefits, technological advancements, challenges, and future prospects of self-driving cars.\n",
      "\n",
      "Benefits of Self-Driving Cars:\n",
      "1. Improved road safety: One of the most significant advantages of self-driving cars is their potential to minimize human errors and accidents. With advanced sensors and AI algorithms, these vehicles can detect and respond to potential dangers faster and more accurately than human drivers.\n",
      "\n",
      "2. Increased efficiency: Self-driving cars have the ability to optimize routes, reduce traffic congestion, and save time. They can communicate with each other and infrastructure, allowing for coordinated movements and smoother traffic flow. This improved efficiency can lead to reduced travel times and increased productivity.\n",
      "\n",
      "3. Enhanced accessibility: Self-driving cars can greatly benefit individuals with disabilities or limited mobility. By providing a safe and reliable transportation option, these vehicles can empower individuals to become more independent and participate fully in society.\n",
      "\n",
      "Technological Advancements in Self-Driving Cars:\n",
      "1. Artificial Intelligence (AI) and Machine Learning (ML): AI and ML technologies enable self-driving cars to perceive and respond to their surroundings. These vehicles can analyze vast amounts of data in real-time, allowing them to make informed decisions and navigate complex driving scenarios.\n",
      "\n",
      "2. Sensors and LiDAR: Self-driving cars rely on a combination of sensors, including cameras, radars, and LiDAR (Light Detection and Ranging) technology, for accurate mapping and object detection. These sensors create a detailed 3D map of the environment, enabling the vehicle to identify and avoid potential obstacles.\n",
      "\n",
      "3. Connectivity and data exchange: Self-driving cars can communicate with each other and infrastructure through advanced connectivity systems. This data exchange enables vehicles to share information about road conditions, traffic patterns, and potential hazards, leading to improved safety and efficiency.\n",
      "\n",
      "Challenges and Concerns:\n",
      "1. Ethical considerations: One of the most pressing concerns surrounding self-driving cars is the ethical dilemmas they may face in critical situations. For example, should a self-driving car prioritize the safety of its occupants over pedestrians? Addressing these ethical considerations requires careful consideration and public discourse.\n",
      "\n",
      "2. Legal and regulatory framework: The introduction of self-driving cars necessitates the development of updated laws and regulations to ensure their safe integration on public roads. Governments and regulatory bodies need to establish clear guidelines for testing, licensing, and liability in autonomous driving scenarios.\n",
      "\n",
      "3. Cybersecurity risks: With increasing reliance on interconnected systems, self-driving cars are vulnerable to cybersecurity threats and hacking attempts. Robust security measures must be implemented to protect these vehicles from potential attacks and ensure the safety of passengers and road users.\n",
      "\n",
      "Future Prospects and Implications:\n",
      "1. Impact on transportation industry: The rise of self-driving cars has the potential to disrupt traditional transportation models. Ride-sharing services could become more prevalent, reducing the need for individual car ownership. This shift may also influence various sectors, such as logistics and delivery services.\n",
      "\n",
      "2. Urban planning and infrastructure: The adoption of self-driving cars may require changes in urban layouts and transportation infrastructure. Cities may need to adapt their road networks, parking facilities, and traffic management systems to accommodate these vehicles and optimize their efficiency.\n",
      "\n",
      "3. Environmental impact: Self-driving cars have the potential to reduce emissions and improve fuel efficiency. By optimizing routes and reducing traffic congestion, these vehicles can contribute to a cleaner and more sustainable environment.\n",
      "\n",
      "Conclusion:\n",
      "Self-driving cars are no longer a distant dream but a reality that is rapidly transforming the way we think about transportation. The benefits, technological advancements, challenges, and future prospects of self-driving cars are complex and multifaceted. As advancements continue to be made, it is essential to address the challenges and ethical considerations associated with these vehicles. The ongoing development of self-driving cars has the potential to revolutionize our society, impacting various sectors and shaping the way we live and move."
     ]
    }
   ],
   "source": [
    "for s in full_chain.stream({\"topic\": \"Self Driving Cars\"}):\n",
    "    print(s.content, end=\"\", flush=True)"
   ]
  },
  {
   "cell_type": "code",
   "execution_count": 47,
   "metadata": {},
   "outputs": [
    {
     "name": "stdout",
     "output_type": "stream",
     "text": [
      "content='Title: The Rise of Self-Driving Cars: Transforming Safety, Convenience, and Efficiency\\n\\nIntroduction:\\nSelf-driving cars have become a hot topic in recent years, capturing the imagination of both technology enthusiasts and the general public. These autonomous vehicles, equipped with advanced sensors and artificial intelligence algorithms, have the potential to revolutionize the way we commute and travel. As their popularity continues to grow, it is important to understand the numerous benefits they offer, the technological advancements driving their development, the challenges they face, and their current adoption and future prospects.\\n\\nBenefits of self-driving cars:\\nOne of the primary advantages of self-driving cars is their potential to enhance safety on the roads. Human errors, such as distracted driving or impaired judgement, contribute significantly to accidents. With autonomous vehicles, these errors can be eliminated, as self-driving cars are designed to make informed decisions based on real-time data. This could lead to a significant reduction in accidents and fatalities.\\n\\nIn addition to safety, self-driving cars offer unparalleled convenience. Passengers can sit back, relax, or be productive during their journey, as the car takes care of the driving. This can transform commuting into a more enjoyable and productive experience, allowing individuals to use their travel time more efficiently.\\n\\nMoreover, self-driving cars have the potential to optimize traffic flow and reduce congestion. By communicating with each other and the surrounding infrastructure, these vehicles can navigate more efficiently, avoiding unnecessary stops and delays. This not only saves time for passengers but also reduces fuel consumption and emissions, contributing to a more sustainable future.\\n\\nTechnological advancements in self-driving cars:\\nThe development of self-driving cars relies on a combination of cutting-edge technologies. Sensors and cameras play a crucial role in perceiving the environment. These include LiDAR (Light Detection and Ranging) sensors, radar, and high-resolution cameras, which provide a comprehensive view of the surroundings and enable the vehicle to make informed decisions.\\n\\nArtificial Intelligence (AI) algorithms form the backbone of self-driving cars. These algorithms process the data from sensors, analyze it, and make real-time decisions based on the information received. This allows the vehicle to navigate, detect obstacles, and respond to changing road conditions.\\n\\nFurthermore, self-driving cars employ machine learning techniques. By continuously analyzing data and learning from their experiences, these vehicles can improve their performance over time. This iterative learning process ensures that autonomous vehicles become more capable and efficient with each trip.\\n\\nChallenges and concerns:\\nDespite the potential benefits, there are several challenges and concerns surrounding self-driving cars. Legal and regulatory issues need to be addressed to accommodate these vehicles on public roads. Additionally, determining liability in accidents involving autonomous vehicles raises complex questions that require careful consideration.\\n\\nEthical dilemmas also arise when it comes to decision-making in unavoidable accidents. Self-driving cars need to be programmed with values and priorities, such as choosing between minimizing harm to the passengers or to pedestrians. These ethical considerations require a comprehensive and ethical framework to ensure the safety and well-being of all parties involved.\\n\\nMoreover, cybersecurity risks pose a significant concern. With an increasing reliance on technology, self-driving cars become potential targets for hackers. Robust security measures and constant vigilance are essential to protect these vehicles from cyber threats.\\n\\nCurrent adoption and future prospects:\\nSeveral major players in the automotive and technology industries, such as Tesla, Waymo, and Uber, are actively developing and testing self-driving cars. These companies have made significant progress, but widespread adoption still faces obstacles. Cost, public acceptance, and infrastructure development are key factors that need to be addressed to facilitate the rapid adoption of self-driving cars.\\n\\nLooking ahead, the future possibilities of self-driving cars are promising. Autonomous taxis could revolutionize the transportation industry, providing a convenient and affordable alternative to traditional taxi services. Additionally, self-driving cars could reduce the need for extensive parking spaces, freeing up valuable urban real estate. Furthermore, these vehicles could enhance accessibility for disabled or elderly individuals, offering them newfound independence and mobility.\\n\\nConclusion:\\nSelf-driving cars have the potential to transform our lives, making transportation safer, more convenient, and more efficient. With their advanced technologies, these vehicles can eliminate human errors, optimize traffic flow, and offer an unparalleled commuting experience. However, challenges such as legal and regulatory issues, ethical dilemmas, and cybersecurity risks need to be addressed. By overcoming these obstacles, self-driving cars could become a ubiquitous mode of transportation, revolutionizing the way we travel and shaping a future that is safer, more convenient, and more sustainable.'\n"
     ]
    }
   ],
   "source": [
    "print(full_chain.invoke({'topic': 'self-drving cars'}))"
   ]
  }
 ],
 "metadata": {
  "kernelspec": {
   "display_name": "langchain-udemy-notebooks-Raz3oF7P",
   "language": "python",
   "name": "python3"
  },
  "language_info": {
   "codemirror_mode": {
    "name": "ipython",
    "version": 3
   },
   "file_extension": ".py",
   "mimetype": "text/x-python",
   "name": "python",
   "nbconvert_exporter": "python",
   "pygments_lexer": "ipython3",
   "version": "3.11.4"
  }
 },
 "nbformat": 4,
 "nbformat_minor": 2
}
